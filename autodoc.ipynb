{
 "cells": [
  {
   "cell_type": "code",
   "execution_count": 1,
   "metadata": {},
   "outputs": [],
   "source": [
    "from docstring_parser import parse"
   ]
  },
  {
   "cell_type": "code",
   "execution_count": 37,
   "metadata": {},
   "outputs": [],
   "source": [
    "path = \"truss/truss_config.py\"\n",
    "\n",
    "to_document = \"TrussConfig\"\n",
    "\n",
    "with open(path, \"r\") as f:\n",
    "    docstring = f.read()\n",
    "\n",
    "docstring = docstring.split(f\"class {to_document}:\\n\")[1].split(\"\\\"\\\"\\\"\")[1]\n",
    "\n",
    "docstring = parse(docstring)"
   ]
  },
  {
   "cell_type": "code",
   "execution_count": 41,
   "metadata": {},
   "outputs": [],
   "source": [
    "mdx = \"\"\n",
    "\n",
    "for param in docstring.params:\n",
    "    mdx += f\"<ParamField body=\\\"{param.arg_name}\\\" type=\\\"{param.type_name}\\\">\\n{param.description}\\n</ParamField>\\n\"\n",
    "\n",
    "out = open(\"../docs/_snippets/config_params.mdx\", \"w\")\n",
    "out.write(mdx)\n",
    "out.close()"
   ]
  }
 ],
 "metadata": {
  "kernelspec": {
   "display_name": "Python 3",
   "language": "python",
   "name": "python3"
  },
  "language_info": {
   "codemirror_mode": {
    "name": "ipython",
    "version": 3
   },
   "file_extension": ".py",
   "mimetype": "text/x-python",
   "name": "python",
   "nbconvert_exporter": "python",
   "pygments_lexer": "ipython3",
   "version": "3.9.17"
  },
  "orig_nbformat": 4
 },
 "nbformat": 4,
 "nbformat_minor": 2
}
